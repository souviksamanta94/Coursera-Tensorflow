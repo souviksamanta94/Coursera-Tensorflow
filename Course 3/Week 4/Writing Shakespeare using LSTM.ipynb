{
  "nbformat": 4,
  "nbformat_minor": 0,
  "metadata": {
    "colab": {
      "name": "NLP_Week4_Exercise_Shakespeare_Answer.ipynb",
      "provenance": []
    },
    "kernelspec": {
      "name": "python3",
      "display_name": "Python 3"
    },
    "accelerator": "GPU"
  },
  "cells": [
    {
      "cell_type": "code",
      "metadata": {
        "id": "BOwsuGQQY9OL",
        "colab_type": "code",
        "colab": {}
      },
      "source": [
        "from tensorflow.keras.preprocessing.sequence import pad_sequences\n",
        "from tensorflow.keras.layers import Embedding, LSTM, Dense, Dropout, Bidirectional\n",
        "from tensorflow.keras.preprocessing.text import Tokenizer\n",
        "from tensorflow.keras.models import Sequential\n",
        "from tensorflow.keras.optimizers import Adam\n",
        "from tensorflow.keras import regularizers\n",
        "import tensorflow.keras.utils as ku \n",
        "import numpy as np "
      ],
      "execution_count": 0,
      "outputs": []
    },
    {
      "cell_type": "code",
      "metadata": {
        "colab_type": "code",
        "id": "PRnDnCW-Z7qv",
        "colab": {
          "base_uri": "https://localhost:8080/",
          "height": 204
        },
        "outputId": "991b5a44-25c9-47ba-8af8-ac739cb488a2"
      },
      "source": [
        "tokenizer = Tokenizer()\n",
        "!wget --no-check-certificate \\\n",
        "    https://storage.googleapis.com/laurencemoroney-blog.appspot.com/sonnets.txt \\\n",
        "    -O /tmp/sonnets.txt\n",
        "data = open('/tmp/sonnets.txt').read()\n",
        "\n",
        "corpus = data.lower().split(\"\\n\")\n",
        "\n",
        "\n",
        "tokenizer.fit_on_texts(corpus)\n",
        "total_words = len(tokenizer.word_index) + 1\n",
        "\n",
        "# create input sequences using list of tokens\n",
        "input_sequences = []\n",
        "for line in corpus:\n",
        "\ttoken_list = tokenizer.texts_to_sequences([line])[0]\n",
        "\tfor i in range(1, len(token_list)):\n",
        "\t\tn_gram_sequence = token_list[:i+1]\n",
        "\t\tinput_sequences.append(n_gram_sequence)\n",
        "\n",
        "\n",
        "# pad sequences \n",
        "max_sequence_len = max([len(x) for x in input_sequences])\n",
        "input_sequences = np.array(pad_sequences(input_sequences, maxlen=max_sequence_len, padding='pre'))\n",
        "\n",
        "# create predictors and label\n",
        "predictors, label = input_sequences[:,:-1],input_sequences[:,-1]\n",
        "\n",
        "label = ku.to_categorical(label, num_classes=total_words)"
      ],
      "execution_count": 2,
      "outputs": [
        {
          "output_type": "stream",
          "text": [
            "--2019-10-23 06:19:46--  https://storage.googleapis.com/laurencemoroney-blog.appspot.com/sonnets.txt\n",
            "Resolving storage.googleapis.com (storage.googleapis.com)... 64.233.167.128, 2a00:1450:400c:c04::80\n",
            "Connecting to storage.googleapis.com (storage.googleapis.com)|64.233.167.128|:443... connected.\n",
            "HTTP request sent, awaiting response... 200 OK\n",
            "Length: 93578 (91K) [text/plain]\n",
            "Saving to: ‘/tmp/sonnets.txt’\n",
            "\n",
            "\r/tmp/sonnets.txt      0%[                    ]       0  --.-KB/s               \r/tmp/sonnets.txt    100%[===================>]  91.38K  --.-KB/s    in 0.001s  \n",
            "\n",
            "2019-10-23 06:19:46 (104 MB/s) - ‘/tmp/sonnets.txt’ saved [93578/93578]\n",
            "\n"
          ],
          "name": "stdout"
        }
      ]
    },
    {
      "cell_type": "code",
      "metadata": {
        "id": "w9vH8Y59ajYL",
        "colab_type": "code",
        "colab": {
          "base_uri": "https://localhost:8080/",
          "height": 649
        },
        "outputId": "85f733f3-ce42-473a-eef2-a884d2ff63c6"
      },
      "source": [
        "model = Sequential()\n",
        "model.add(Embedding(total_words, 100, input_length=max_sequence_len-1))\n",
        "model.add(Bidirectional(LSTM(150, return_sequences = True)))\n",
        "model.add(Dropout(0.2))\n",
        "model.add(LSTM(100))\n",
        "model.add(Dense(total_words/2, activation='relu', kernel_regularizer=regularizers.l2(0.01)))\n",
        "model.add(Dense(total_words, activation='softmax'))\n",
        "model.compile(loss='categorical_crossentropy', optimizer='adam', metrics=['accuracy'])\n",
        "print(model.summary())\n"
      ],
      "execution_count": 3,
      "outputs": [
        {
          "output_type": "stream",
          "text": [
            "WARNING:tensorflow:From /usr/local/lib/python3.6/dist-packages/tensorflow_core/python/keras/initializers.py:119: calling RandomUniform.__init__ (from tensorflow.python.ops.init_ops) with dtype is deprecated and will be removed in a future version.\n",
            "Instructions for updating:\n",
            "Call initializer instance with the dtype argument instead of passing it to the constructor\n",
            "WARNING:tensorflow:From /usr/local/lib/python3.6/dist-packages/tensorflow_core/python/ops/resource_variable_ops.py:1630: calling BaseResourceVariable.__init__ (from tensorflow.python.ops.resource_variable_ops) with constraint is deprecated and will be removed in a future version.\n",
            "Instructions for updating:\n",
            "If using Keras pass *_constraint arguments to layers.\n",
            "WARNING:tensorflow:From /usr/local/lib/python3.6/dist-packages/tensorflow_core/python/ops/init_ops.py:97: calling GlorotUniform.__init__ (from tensorflow.python.ops.init_ops) with dtype is deprecated and will be removed in a future version.\n",
            "Instructions for updating:\n",
            "Call initializer instance with the dtype argument instead of passing it to the constructor\n",
            "WARNING:tensorflow:From /usr/local/lib/python3.6/dist-packages/tensorflow_core/python/ops/init_ops.py:97: calling Orthogonal.__init__ (from tensorflow.python.ops.init_ops) with dtype is deprecated and will be removed in a future version.\n",
            "Instructions for updating:\n",
            "Call initializer instance with the dtype argument instead of passing it to the constructor\n",
            "WARNING:tensorflow:From /usr/local/lib/python3.6/dist-packages/tensorflow_core/python/ops/init_ops.py:97: calling Zeros.__init__ (from tensorflow.python.ops.init_ops) with dtype is deprecated and will be removed in a future version.\n",
            "Instructions for updating:\n",
            "Call initializer instance with the dtype argument instead of passing it to the constructor\n",
            "Model: \"sequential\"\n",
            "_________________________________________________________________\n",
            "Layer (type)                 Output Shape              Param #   \n",
            "=================================================================\n",
            "embedding (Embedding)        (None, 10, 100)           321100    \n",
            "_________________________________________________________________\n",
            "bidirectional (Bidirectional (None, 10, 300)           301200    \n",
            "_________________________________________________________________\n",
            "dropout (Dropout)            (None, 10, 300)           0         \n",
            "_________________________________________________________________\n",
            "lstm_1 (LSTM)                (None, 100)               160400    \n",
            "_________________________________________________________________\n",
            "dense (Dense)                (None, 1605)              162105    \n",
            "_________________________________________________________________\n",
            "dense_1 (Dense)              (None, 3211)              5156866   \n",
            "=================================================================\n",
            "Total params: 6,101,671\n",
            "Trainable params: 6,101,671\n",
            "Non-trainable params: 0\n",
            "_________________________________________________________________\n",
            "None\n"
          ],
          "name": "stdout"
        }
      ]
    },
    {
      "cell_type": "code",
      "metadata": {
        "id": "AIg2f1HBxqof",
        "colab_type": "code",
        "colab": {
          "base_uri": "https://localhost:8080/",
          "height": 1000
        },
        "outputId": "f6895ace-14f9-4882-9507-04af85599172"
      },
      "source": [
        " history = model.fit(predictors, label, epochs=100, verbose=1)"
      ],
      "execution_count": 4,
      "outputs": [
        {
          "output_type": "stream",
          "text": [
            "WARNING:tensorflow:From /usr/local/lib/python3.6/dist-packages/tensorflow_core/python/ops/math_grad.py:1424: where (from tensorflow.python.ops.array_ops) is deprecated and will be removed in a future version.\n",
            "Instructions for updating:\n",
            "Use tf.where in 2.0, which has the same broadcast rule as np.where\n",
            "Train on 15462 samples\n",
            "Epoch 1/100\n",
            "15462/15462 [==============================] - 35s 2ms/sample - loss: 6.9007 - acc: 0.0241\n",
            "Epoch 2/100\n",
            "15462/15462 [==============================] - 31s 2ms/sample - loss: 6.5007 - acc: 0.0235\n",
            "Epoch 3/100\n",
            "15462/15462 [==============================] - 31s 2ms/sample - loss: 6.3934 - acc: 0.0279\n",
            "Epoch 4/100\n",
            "15462/15462 [==============================] - 31s 2ms/sample - loss: 6.2763 - acc: 0.0296\n",
            "Epoch 5/100\n",
            "15462/15462 [==============================] - 31s 2ms/sample - loss: 6.1925 - acc: 0.0343\n",
            "Epoch 6/100\n",
            "15462/15462 [==============================] - 30s 2ms/sample - loss: 6.1151 - acc: 0.0369\n",
            "Epoch 7/100\n",
            "15462/15462 [==============================] - 30s 2ms/sample - loss: 6.0394 - acc: 0.0394\n",
            "Epoch 8/100\n",
            "15462/15462 [==============================] - 30s 2ms/sample - loss: 5.9628 - acc: 0.0427\n",
            "Epoch 9/100\n",
            "15462/15462 [==============================] - 29s 2ms/sample - loss: 5.8776 - acc: 0.0481\n",
            "Epoch 10/100\n",
            "15462/15462 [==============================] - 29s 2ms/sample - loss: 5.7749 - acc: 0.0536\n",
            "Epoch 11/100\n",
            "15462/15462 [==============================] - 29s 2ms/sample - loss: 5.6652 - acc: 0.0590\n",
            "Epoch 12/100\n",
            "15462/15462 [==============================] - 29s 2ms/sample - loss: 5.5591 - acc: 0.0675\n",
            "Epoch 13/100\n",
            "15462/15462 [==============================] - 29s 2ms/sample - loss: 5.4575 - acc: 0.0724\n",
            "Epoch 14/100\n",
            "15462/15462 [==============================] - 30s 2ms/sample - loss: 5.3575 - acc: 0.0786\n",
            "Epoch 15/100\n",
            "15462/15462 [==============================] - 29s 2ms/sample - loss: 5.2543 - acc: 0.0844\n",
            "Epoch 16/100\n",
            "15462/15462 [==============================] - 29s 2ms/sample - loss: 5.1585 - acc: 0.0888\n",
            "Epoch 17/100\n",
            "15462/15462 [==============================] - 29s 2ms/sample - loss: 5.0669 - acc: 0.0940\n",
            "Epoch 18/100\n",
            "15462/15462 [==============================] - 30s 2ms/sample - loss: 4.9752 - acc: 0.0995\n",
            "Epoch 19/100\n",
            "15462/15462 [==============================] - 30s 2ms/sample - loss: 4.8840 - acc: 0.1077\n",
            "Epoch 20/100\n",
            "15462/15462 [==============================] - 30s 2ms/sample - loss: 4.7975 - acc: 0.1121\n",
            "Epoch 21/100\n",
            "15462/15462 [==============================] - 32s 2ms/sample - loss: 4.7062 - acc: 0.1208\n",
            "Epoch 22/100\n",
            "15462/15462 [==============================] - 33s 2ms/sample - loss: 4.6176 - acc: 0.1284\n",
            "Epoch 23/100\n",
            "15462/15462 [==============================] - 33s 2ms/sample - loss: 4.5284 - acc: 0.1364\n",
            "Epoch 24/100\n",
            "15462/15462 [==============================] - 32s 2ms/sample - loss: 4.4408 - acc: 0.1477\n",
            "Epoch 25/100\n",
            "15462/15462 [==============================] - 31s 2ms/sample - loss: 4.3529 - acc: 0.1568\n",
            "Epoch 26/100\n",
            "15462/15462 [==============================] - 31s 2ms/sample - loss: 4.2613 - acc: 0.1625\n",
            "Epoch 27/100\n",
            "15462/15462 [==============================] - 31s 2ms/sample - loss: 4.1787 - acc: 0.1775\n",
            "Epoch 28/100\n",
            "15462/15462 [==============================] - 30s 2ms/sample - loss: 4.0914 - acc: 0.1890\n",
            "Epoch 29/100\n",
            "15462/15462 [==============================] - 29s 2ms/sample - loss: 4.0035 - acc: 0.2004\n",
            "Epoch 30/100\n",
            "15462/15462 [==============================] - 29s 2ms/sample - loss: 3.9239 - acc: 0.2102\n",
            "Epoch 31/100\n",
            "15462/15462 [==============================] - 30s 2ms/sample - loss: 3.8453 - acc: 0.2278\n",
            "Epoch 32/100\n",
            "15462/15462 [==============================] - 30s 2ms/sample - loss: 3.7559 - acc: 0.2416\n",
            "Epoch 33/100\n",
            "15462/15462 [==============================] - 30s 2ms/sample - loss: 3.6772 - acc: 0.2597\n",
            "Epoch 34/100\n",
            "15462/15462 [==============================] - 29s 2ms/sample - loss: 3.5895 - acc: 0.2740\n",
            "Epoch 35/100\n",
            "15462/15462 [==============================] - 29s 2ms/sample - loss: 3.5119 - acc: 0.2949\n",
            "Epoch 36/100\n",
            "15462/15462 [==============================] - 29s 2ms/sample - loss: 3.4304 - acc: 0.3068\n",
            "Epoch 37/100\n",
            "15462/15462 [==============================] - 29s 2ms/sample - loss: 3.3715 - acc: 0.3247\n",
            "Epoch 38/100\n",
            "15462/15462 [==============================] - 29s 2ms/sample - loss: 3.2895 - acc: 0.3395\n",
            "Epoch 39/100\n",
            "15462/15462 [==============================] - 29s 2ms/sample - loss: 3.2128 - acc: 0.3586\n",
            "Epoch 40/100\n",
            "15462/15462 [==============================] - 29s 2ms/sample - loss: 3.1512 - acc: 0.3729\n",
            "Epoch 41/100\n",
            "15462/15462 [==============================] - 29s 2ms/sample - loss: 3.0842 - acc: 0.3863\n",
            "Epoch 42/100\n",
            "15462/15462 [==============================] - 29s 2ms/sample - loss: 3.0273 - acc: 0.3965\n",
            "Epoch 43/100\n",
            "15462/15462 [==============================] - 31s 2ms/sample - loss: 2.9735 - acc: 0.4098\n",
            "Epoch 44/100\n",
            "15462/15462 [==============================] - 32s 2ms/sample - loss: 2.9003 - acc: 0.4267\n",
            "Epoch 45/100\n",
            "15462/15462 [==============================] - 32s 2ms/sample - loss: 2.8257 - acc: 0.4430\n",
            "Epoch 46/100\n",
            "15462/15462 [==============================] - 31s 2ms/sample - loss: 2.7736 - acc: 0.4558\n",
            "Epoch 47/100\n",
            "15462/15462 [==============================] - 30s 2ms/sample - loss: 2.7214 - acc: 0.4679\n",
            "Epoch 48/100\n",
            "15462/15462 [==============================] - 30s 2ms/sample - loss: 2.6554 - acc: 0.4831\n",
            "Epoch 49/100\n",
            "15462/15462 [==============================] - 30s 2ms/sample - loss: 2.6034 - acc: 0.4966\n",
            "Epoch 50/100\n",
            "15462/15462 [==============================] - 29s 2ms/sample - loss: 2.5646 - acc: 0.5019\n",
            "Epoch 51/100\n",
            "15462/15462 [==============================] - 29s 2ms/sample - loss: 2.5161 - acc: 0.5133\n",
            "Epoch 52/100\n",
            "15462/15462 [==============================] - 29s 2ms/sample - loss: 2.4660 - acc: 0.5239\n",
            "Epoch 53/100\n",
            "15462/15462 [==============================] - 29s 2ms/sample - loss: 2.4259 - acc: 0.5365\n",
            "Epoch 54/100\n",
            "15462/15462 [==============================] - 29s 2ms/sample - loss: 2.3829 - acc: 0.5426\n",
            "Epoch 55/100\n",
            "15462/15462 [==============================] - 29s 2ms/sample - loss: 2.3240 - acc: 0.5614\n",
            "Epoch 56/100\n",
            "15462/15462 [==============================] - 29s 2ms/sample - loss: 2.2849 - acc: 0.5667\n",
            "Epoch 57/100\n",
            "15462/15462 [==============================] - 29s 2ms/sample - loss: 2.2580 - acc: 0.5712\n",
            "Epoch 58/100\n",
            "15462/15462 [==============================] - 29s 2ms/sample - loss: 2.2153 - acc: 0.5856\n",
            "Epoch 59/100\n",
            "15462/15462 [==============================] - 29s 2ms/sample - loss: 2.1584 - acc: 0.5949\n",
            "Epoch 60/100\n",
            "15462/15462 [==============================] - 29s 2ms/sample - loss: 2.1150 - acc: 0.6112\n",
            "Epoch 61/100\n",
            "15462/15462 [==============================] - 29s 2ms/sample - loss: 2.0720 - acc: 0.6174\n",
            "Epoch 62/100\n",
            "15462/15462 [==============================] - 30s 2ms/sample - loss: 2.0565 - acc: 0.6164\n",
            "Epoch 63/100\n",
            "15462/15462 [==============================] - 30s 2ms/sample - loss: 2.0293 - acc: 0.6250\n",
            "Epoch 64/100\n",
            "15462/15462 [==============================] - 30s 2ms/sample - loss: 1.9681 - acc: 0.6424\n",
            "Epoch 65/100\n",
            "15462/15462 [==============================] - 30s 2ms/sample - loss: 1.9452 - acc: 0.6430\n",
            "Epoch 66/100\n",
            "15462/15462 [==============================] - 31s 2ms/sample - loss: 1.9248 - acc: 0.6488\n",
            "Epoch 67/100\n",
            "15462/15462 [==============================] - 32s 2ms/sample - loss: 1.8904 - acc: 0.6577\n",
            "Epoch 68/100\n",
            "15462/15462 [==============================] - 30s 2ms/sample - loss: 1.8636 - acc: 0.6621\n",
            "Epoch 69/100\n",
            "15462/15462 [==============================] - 31s 2ms/sample - loss: 1.8378 - acc: 0.6662\n",
            "Epoch 70/100\n",
            "15462/15462 [==============================] - 31s 2ms/sample - loss: 1.8115 - acc: 0.6729\n",
            "Epoch 71/100\n",
            "15462/15462 [==============================] - 30s 2ms/sample - loss: 1.7666 - acc: 0.6826\n",
            "Epoch 72/100\n",
            "15462/15462 [==============================] - 30s 2ms/sample - loss: 1.7560 - acc: 0.6859\n",
            "Epoch 73/100\n",
            "15462/15462 [==============================] - 30s 2ms/sample - loss: 1.7256 - acc: 0.6889\n",
            "Epoch 74/100\n",
            "15462/15462 [==============================] - 30s 2ms/sample - loss: 1.7017 - acc: 0.6973\n",
            "Epoch 75/100\n",
            "15462/15462 [==============================] - 29s 2ms/sample - loss: 1.6800 - acc: 0.7007\n",
            "Epoch 76/100\n",
            "15462/15462 [==============================] - 30s 2ms/sample - loss: 1.6496 - acc: 0.7092\n",
            "Epoch 77/100\n",
            "15462/15462 [==============================] - 30s 2ms/sample - loss: 1.6293 - acc: 0.7116\n",
            "Epoch 78/100\n",
            "15462/15462 [==============================] - 29s 2ms/sample - loss: 1.6060 - acc: 0.7172\n",
            "Epoch 79/100\n",
            "15462/15462 [==============================] - 30s 2ms/sample - loss: 1.5914 - acc: 0.7209\n",
            "Epoch 80/100\n",
            "15462/15462 [==============================] - 30s 2ms/sample - loss: 1.5716 - acc: 0.7248\n",
            "Epoch 81/100\n",
            "15462/15462 [==============================] - 30s 2ms/sample - loss: 1.5491 - acc: 0.7289\n",
            "Epoch 82/100\n",
            "15462/15462 [==============================] - 30s 2ms/sample - loss: 1.5147 - acc: 0.7353\n",
            "Epoch 83/100\n",
            "15462/15462 [==============================] - 29s 2ms/sample - loss: 1.4992 - acc: 0.7392\n",
            "Epoch 84/100\n",
            "15462/15462 [==============================] - 29s 2ms/sample - loss: 1.4745 - acc: 0.7422\n",
            "Epoch 85/100\n",
            "15462/15462 [==============================] - 30s 2ms/sample - loss: 1.4637 - acc: 0.7475\n",
            "Epoch 86/100\n",
            "15462/15462 [==============================] - 31s 2ms/sample - loss: 1.4586 - acc: 0.7460\n",
            "Epoch 87/100\n",
            "15462/15462 [==============================] - 32s 2ms/sample - loss: 1.4475 - acc: 0.7452\n",
            "Epoch 88/100\n",
            "15462/15462 [==============================] - 32s 2ms/sample - loss: 1.4303 - acc: 0.7511\n",
            "Epoch 89/100\n",
            "15462/15462 [==============================] - 32s 2ms/sample - loss: 1.4001 - acc: 0.7585\n",
            "Epoch 90/100\n",
            "15462/15462 [==============================] - 31s 2ms/sample - loss: 1.4033 - acc: 0.7524\n",
            "Epoch 91/100\n",
            "15462/15462 [==============================] - 31s 2ms/sample - loss: 1.3833 - acc: 0.7593\n",
            "Epoch 92/100\n",
            "15462/15462 [==============================] - 31s 2ms/sample - loss: 1.3579 - acc: 0.7659\n",
            "Epoch 93/100\n",
            "15462/15462 [==============================] - 31s 2ms/sample - loss: 1.3407 - acc: 0.7696\n",
            "Epoch 94/100\n",
            "15462/15462 [==============================] - 30s 2ms/sample - loss: 1.3254 - acc: 0.7704\n",
            "Epoch 95/100\n",
            "15462/15462 [==============================] - 29s 2ms/sample - loss: 1.3145 - acc: 0.7715\n",
            "Epoch 96/100\n",
            "15462/15462 [==============================] - 30s 2ms/sample - loss: 1.2954 - acc: 0.7740\n",
            "Epoch 97/100\n",
            "15462/15462 [==============================] - 29s 2ms/sample - loss: 1.2909 - acc: 0.7797\n",
            "Epoch 98/100\n",
            "15462/15462 [==============================] - 29s 2ms/sample - loss: 1.2798 - acc: 0.7796\n",
            "Epoch 99/100\n",
            "15462/15462 [==============================] - 30s 2ms/sample - loss: 1.2642 - acc: 0.7816\n",
            "Epoch 100/100\n",
            "15462/15462 [==============================] - 29s 2ms/sample - loss: 1.2538 - acc: 0.7834\n"
          ],
          "name": "stdout"
        }
      ]
    },
    {
      "cell_type": "code",
      "metadata": {
        "id": "1fXTEO3GJ282",
        "colab_type": "code",
        "colab": {
          "base_uri": "https://localhost:8080/",
          "height": 545
        },
        "outputId": "4257215d-21c7-4ce9-ade1-7311873bfa09"
      },
      "source": [
        "import matplotlib.pyplot as plt\n",
        "acc = history.history['acc']\n",
        "loss = history.history['loss']\n",
        "\n",
        "epochs = range(len(acc))\n",
        "\n",
        "plt.plot(epochs, acc, 'b', label='Training accuracy')\n",
        "plt.title('Training accuracy')\n",
        "\n",
        "plt.figure()\n",
        "\n",
        "plt.plot(epochs, loss, 'b', label='Training Loss')\n",
        "plt.title('Training loss')\n",
        "plt.legend()\n",
        "\n",
        "plt.show()"
      ],
      "execution_count": 5,
      "outputs": [
        {
          "output_type": "display_data",
          "data": {
            "image/png": "[encoded data removed]",
            "text/plain": [
              "<Figure size 432x288 with 1 Axes>"
            ]
          },
          "metadata": {
            "tags": []
          }
        },
        {
          "output_type": "display_data",
          "data": {
            "image/png": "[encoded data removed]",
            "text/plain": [
              "<Figure size 432x288 with 1 Axes>"
            ]
          },
          "metadata": {
            "tags": []
          }
        }
      ]
    },
    {
      "cell_type": "code",
      "metadata": {
        "id": "6Vc6PHgxa6Hm",
        "colab_type": "code",
        "colab": {
          "base_uri": "https://localhost:8080/",
          "height": 54
        },
        "outputId": "c7e17d2e-7e0a-46c8-f3ff-a277e79025ab"
      },
      "source": [
        "seed_text = \"Help me Obi Wan Kenobi, you're my only hope\"\n",
        "next_words = 100\n",
        "  \n",
        "for _ in range(next_words):\n",
        "\ttoken_list = tokenizer.texts_to_sequences([seed_text])[0]\n",
        "\ttoken_list = pad_sequences([token_list], maxlen=max_sequence_len-1, padding='pre')\n",
        "\tpredicted = model.predict_classes(token_list, verbose=0)\n",
        "\toutput_word = \"\"\n",
        "\tfor word, index in tokenizer.word_index.items():\n",
        "\t\tif index == predicted:\n",
        "\t\t\toutput_word = word\n",
        "\t\t\tbreak\n",
        "\tseed_text += \" \" + output_word\n",
        "print(seed_text)"
      ],
      "execution_count": 6,
      "outputs": [
        {
          "output_type": "stream",
          "text": [
            "Help me Obi Wan Kenobi, you're my only hope some taste now there twain last thee thence their chest tell thee more now too strong look dead lie of thee too it now chary deem'd ranged twain say it care a lease doth flatter a tomb a faces ' bar hanging still dote go rage date more dead burn'd grow more ' well hate ' now thee there speaking in brain and loss so loss doth catch thy love lies fight now hold his treasure groan well behind his straying sight warm'd warm'd warm'd beard beard alive eyes happy more end due so summer thee now me more hate\n"
          ],
          "name": "stdout"
        }
      ]
    }
  ]
}