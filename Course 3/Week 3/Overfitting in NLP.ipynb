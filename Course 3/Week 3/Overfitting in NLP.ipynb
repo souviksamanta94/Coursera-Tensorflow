{
  "nbformat": 4,
  "nbformat_minor": 0,
  "metadata": {
    "colab": {
      "name": "NLP Course - Week 3 Exercise Answer.ipynb",
      "provenance": []
    },
    "kernelspec": {
      "name": "python3",
      "display_name": "Python 3"
    },
    "accelerator": "GPU"
  },
  "cells": [
    {
      "cell_type": "code",
      "metadata": {
        "id": "hmA6EzkQJ5jt",
        "colab_type": "code",
        "colab": {}
      },
      "source": [
        "import json\n",
        "import tensorflow as tf\n",
        "import csv\n",
        "import random\n",
        "import numpy as np\n",
        "\n",
        "from tensorflow.keras.preprocessing.text import Tokenizer\n",
        "from tensorflow.keras.preprocessing.sequence import pad_sequences\n",
        "from tensorflow.keras.utils import to_categorical\n",
        "from tensorflow.keras import regularizers\n",
        "\n",
        "\n",
        "embedding_dim = 100\n",
        "max_length = 16\n",
        "trunc_type='post'\n",
        "padding_type='post'\n",
        "oov_tok = \"<OOV>\"\n",
        "training_size=160000\n",
        "test_portion=.1\n",
        "\n",
        "corpus = []\n"
      ],
      "execution_count": 0,
      "outputs": []
    },
    {
      "cell_type": "code",
      "metadata": {
        "id": "bM0l_dORKqE0",
        "colab_type": "code",
        "outputId": "558ae43d-8b86-452d-dcaf-17545e4c6eff",
        "colab": {
          "base_uri": "https://localhost:8080/",
          "height": 204
        }
      },
      "source": [
        "\n",
        "# Note that I cleaned the Stanford dataset to remove LATIN1 encoding to make it easier for Python CSV reader\n",
        "# You can do that yourself with:\n",
        "# iconv -f LATIN1 -t UTF8 training.1600000.processed.noemoticon.csv -o training_cleaned.csv\n",
        "# I then hosted it on my site to make it easier to use in this notebook\n",
        "\n",
        "!wget --no-check-certificate \\\n",
        "    https://storage.googleapis.com/laurencemoroney-blog.appspot.com/training_cleaned.csv \\\n",
        "    -O /tmp/training_cleaned.csv\n",
        "\n",
        "num_sentences = 0\n",
        "\n",
        "with open(\"/tmp/training_cleaned.csv\") as csvfile:\n",
        "    reader = csv.reader(csvfile, delimiter=',')\n",
        "    for row in reader:\n",
        "        list_item=[]\n",
        "        list_item.append(row[5])\n",
        "        this_label=row[0]\n",
        "        if this_label=='0':\n",
        "            list_item.append(0)\n",
        "        else:\n",
        "            list_item.append(1)\n",
        "        num_sentences = num_sentences + 1\n",
        "        corpus.append(list_item)\n",
        "\n",
        "\n"
      ],
      "execution_count": 2,
      "outputs": [
        {
          "output_type": "stream",
          "text": [
            "--2019-10-23 06:13:02--  https://storage.googleapis.com/laurencemoroney-blog.appspot.com/training_cleaned.csv\n",
            "Resolving storage.googleapis.com (storage.googleapis.com)... 74.125.142.128, 2607:f8b0:400e:c07::80\n",
            "Connecting to storage.googleapis.com (storage.googleapis.com)|74.125.142.128|:443... connected.\n",
            "HTTP request sent, awaiting response... 200 OK\n",
            "Length: 238942690 (228M) [application/octet-stream]\n",
            "Saving to: ‘/tmp/training_cleaned.csv’\n",
            "\n",
            "/tmp/training_clean 100%[===================>] 227.87M   129MB/s    in 1.8s    \n",
            "\n",
            "2019-10-23 06:13:04 (129 MB/s) - ‘/tmp/training_cleaned.csv’ saved [238942690/238942690]\n",
            "\n"
          ],
          "name": "stdout"
        }
      ]
    },
    {
      "cell_type": "code",
      "metadata": {
        "id": "3kxblBUjEUX-",
        "colab_type": "code",
        "outputId": "75b3ce94-76a2-4440-92de-4e630135727d",
        "colab": {
          "base_uri": "https://localhost:8080/",
          "height": 68
        }
      },
      "source": [
        "print(num_sentences)\n",
        "print(len(corpus))\n",
        "print(corpus[1])\n",
        "\n",
        "# Expected Output:\n",
        "# 1600000\n",
        "# 1600000\n",
        "# [\"is upset that he can't update his Facebook by texting it... and might cry as a result  School today also. Blah!\", 0]"
      ],
      "execution_count": 3,
      "outputs": [
        {
          "output_type": "stream",
          "text": [
            "1600000\n",
            "1600000\n",
            "[\"is upset that he can't update his Facebook by texting it... and might cry as a result  School today also. Blah!\", 0]\n"
          ],
          "name": "stdout"
        }
      ]
    },
    {
      "cell_type": "code",
      "metadata": {
        "id": "ohOGz24lsNAD",
        "colab_type": "code",
        "colab": {}
      },
      "source": [
        "sentences=[]\n",
        "labels=[]\n",
        "random.shuffle(corpus)\n",
        "for x in range(training_size):\n",
        "    sentences.append(corpus[x][0])\n",
        "    labels.append(corpus[x][1])\n",
        "\n",
        "\n",
        "tokenizer = Tokenizer()\n",
        "tokenizer.fit_on_texts(sentences)\n",
        "\n",
        "word_index = tokenizer.word_index\n",
        "vocab_size=len(word_index)\n",
        "\n",
        "sequences = tokenizer.texts_to_sequences(sentences)\n",
        "padded = pad_sequences(sequences, maxlen=max_length, padding=padding_type, truncating=trunc_type)\n",
        "\n",
        "split = int(test_portion * training_size)\n",
        "\n",
        "test_sequences = padded[0:split]\n",
        "training_sequences = padded[split:training_size]\n",
        "test_labels = labels[0:split]\n",
        "training_labels = labels[split:training_size]"
      ],
      "execution_count": 0,
      "outputs": []
    },
    {
      "cell_type": "code",
      "metadata": {
        "id": "gIrtRem1En3N",
        "colab_type": "code",
        "outputId": "4ad8401c-8dba-420d-8aee-38dac0b0839a",
        "colab": {
          "base_uri": "https://localhost:8080/",
          "height": 51
        }
      },
      "source": [
        "print(vocab_size)\n",
        "print(word_index['i'])\n",
        "# Expected Output\n",
        "# 138858\n",
        "# 1"
      ],
      "execution_count": 0,
      "outputs": [
        {
          "output_type": "stream",
          "text": [
            "138858\n",
            "1\n"
          ],
          "name": "stdout"
        }
      ]
    },
    {
      "cell_type": "code",
      "metadata": {
        "id": "C1zdgJkusRh0",
        "colab_type": "code",
        "outputId": "7bf53655-3f09-4460-bc16-db46eff997ba",
        "colab": {
          "base_uri": "https://localhost:8080/",
          "height": 204
        }
      },
      "source": [
        "# Note this is the 100 dimension version of GloVe from Stanford\n",
        "# I unzipped and hosted it on my site to make this notebook easier\n",
        "!wget --no-check-certificate \\\n",
        "    https://storage.googleapis.com/laurencemoroney-blog.appspot.com/glove.6B.100d.txt \\\n",
        "    -O /tmp/glove.6B.100d.txt\n",
        "embeddings_index = {};\n",
        "with open('/tmp/glove.6B.100d.txt') as f:\n",
        "    for line in f:\n",
        "        values = line.split();\n",
        "        word = values[0];\n",
        "        coefs = np.asarray(values[1:], dtype='float32');\n",
        "        embeddings_index[word] = coefs;\n",
        "\n",
        "embeddings_matrix = np.zeros((vocab_size+1, embedding_dim));\n",
        "for word, i in word_index.items():\n",
        "    embedding_vector = embeddings_index.get(word);\n",
        "    if embedding_vector is not None:\n",
        "        embeddings_matrix[i] = embedding_vector;"
      ],
      "execution_count": 5,
      "outputs": [
        {
          "output_type": "stream",
          "text": [
            "--2019-10-23 06:13:25--  https://storage.googleapis.com/laurencemoroney-blog.appspot.com/glove.6B.100d.txt\n",
            "Resolving storage.googleapis.com (storage.googleapis.com)... 74.125.20.128, 2607:f8b0:400e:c08::80\n",
            "Connecting to storage.googleapis.com (storage.googleapis.com)|74.125.20.128|:443... connected.\n",
            "HTTP request sent, awaiting response... 200 OK\n",
            "Length: 347116733 (331M) [text/plain]\n",
            "Saving to: ‘/tmp/glove.6B.100d.txt’\n",
            "\n",
            "/tmp/glove.6B.100d. 100%[===================>] 331.04M  93.2MB/s    in 3.6s    \n",
            "\n",
            "2019-10-23 06:13:29 (93.2 MB/s) - ‘/tmp/glove.6B.100d.txt’ saved [347116733/347116733]\n",
            "\n"
          ],
          "name": "stdout"
        }
      ]
    },
    {
      "cell_type": "code",
      "metadata": {
        "id": "71NLk_lpFLNt",
        "colab_type": "code",
        "outputId": "3fc2a3da-0268-4386-d2a1-4ea89904083b",
        "colab": {
          "base_uri": "https://localhost:8080/",
          "height": 34
        }
      },
      "source": [
        "print(len(embeddings_matrix))\n",
        "# Expected Output\n",
        "# 138859"
      ],
      "execution_count": 6,
      "outputs": [
        {
          "output_type": "stream",
          "text": [
            "137638\n"
          ],
          "name": "stdout"
        }
      ]
    },
    {
      "cell_type": "code",
      "metadata": {
        "colab_type": "code",
        "id": "iKKvbuEBOGFz",
        "colab": {
          "base_uri": "https://localhost:8080/",
          "height": 1000
        },
        "outputId": "cd9f046e-d6b4-4a14-ce9d-18e729769290"
      },
      "source": [
        "model = tf.keras.Sequential([\n",
        "    tf.keras.layers.Embedding(vocab_size+1, embedding_dim, input_length=max_length, weights=[embeddings_matrix], trainable=False),\n",
        "    tf.keras.layers.Dropout(0.2),\n",
        "    tf.keras.layers.Conv1D(64, 5, activation='relu'),\n",
        "    tf.keras.layers.MaxPooling1D(pool_size=4),\n",
        "    tf.keras.layers.LSTM(64),\n",
        "    tf.keras.layers.Dense(1, activation='sigmoid')\n",
        "])\n",
        "model.compile(loss='binary_crossentropy',optimizer='adam',metrics=['accuracy'])\n",
        "model.summary()\n",
        "\n",
        "num_epochs = 50\n",
        "history = model.fit(training_sequences, training_labels, epochs=num_epochs, validation_data=(test_sequences, test_labels), verbose=2)\n",
        "\n",
        "print(\"Training Complete\")\n"
      ],
      "execution_count": 7,
      "outputs": [
        {
          "output_type": "stream",
          "text": [
            "WARNING:tensorflow:From /usr/local/lib/python3.6/dist-packages/tensorflow_core/python/keras/initializers.py:119: calling RandomUniform.__init__ (from tensorflow.python.ops.init_ops) with dtype is deprecated and will be removed in a future version.\n",
            "Instructions for updating:\n",
            "Call initializer instance with the dtype argument instead of passing it to the constructor\n",
            "WARNING:tensorflow:From /usr/local/lib/python3.6/dist-packages/tensorflow_core/python/ops/resource_variable_ops.py:1630: calling BaseResourceVariable.__init__ (from tensorflow.python.ops.resource_variable_ops) with constraint is deprecated and will be removed in a future version.\n",
            "Instructions for updating:\n",
            "If using Keras pass *_constraint arguments to layers.\n",
            "WARNING:tensorflow:From /usr/local/lib/python3.6/dist-packages/tensorflow_core/python/ops/nn_impl.py:183: where (from tensorflow.python.ops.array_ops) is deprecated and will be removed in a future version.\n",
            "Instructions for updating:\n",
            "Use tf.where in 2.0, which has the same broadcast rule as np.where\n",
            "Model: \"sequential\"\n",
            "_________________________________________________________________\n",
            "Layer (type)                 Output Shape              Param #   \n",
            "=================================================================\n",
            "embedding (Embedding)        (None, 16, 100)           13763800  \n",
            "_________________________________________________________________\n",
            "dropout (Dropout)            (None, 16, 100)           0         \n",
            "_________________________________________________________________\n",
            "conv1d (Conv1D)              (None, 12, 64)            32064     \n",
            "_________________________________________________________________\n",
            "max_pooling1d (MaxPooling1D) (None, 3, 64)             0         \n",
            "_________________________________________________________________\n",
            "lstm (LSTM)                  (None, 64)                33024     \n",
            "_________________________________________________________________\n",
            "dense (Dense)                (None, 1)                 65        \n",
            "=================================================================\n",
            "Total params: 13,828,953\n",
            "Trainable params: 65,153\n",
            "Non-trainable params: 13,763,800\n",
            "_________________________________________________________________\n",
            "Train on 144000 samples, validate on 16000 samples\n",
            "Epoch 1/50\n",
            "144000/144000 - 47s - loss: 0.5679 - acc: 0.6987 - val_loss: 0.5344 - val_acc: 0.7234\n",
            "Epoch 2/50\n",
            "144000/144000 - 44s - loss: 0.5283 - acc: 0.7315 - val_loss: 0.5223 - val_acc: 0.7342\n",
            "Epoch 3/50\n",
            "144000/144000 - 44s - loss: 0.5103 - acc: 0.7433 - val_loss: 0.5239 - val_acc: 0.7394\n",
            "Epoch 4/50\n",
            "144000/144000 - 43s - loss: 0.4993 - acc: 0.7519 - val_loss: 0.5074 - val_acc: 0.7447\n",
            "Epoch 5/50\n",
            "144000/144000 - 43s - loss: 0.4905 - acc: 0.7599 - val_loss: 0.5042 - val_acc: 0.7516\n",
            "Epoch 6/50\n",
            "144000/144000 - 43s - loss: 0.4849 - acc: 0.7608 - val_loss: 0.4973 - val_acc: 0.7541\n",
            "Epoch 7/50\n",
            "144000/144000 - 43s - loss: 0.4784 - acc: 0.7664 - val_loss: 0.5069 - val_acc: 0.7482\n",
            "Epoch 8/50\n",
            "144000/144000 - 44s - loss: 0.4735 - acc: 0.7689 - val_loss: 0.4999 - val_acc: 0.7559\n",
            "Epoch 9/50\n",
            "144000/144000 - 43s - loss: 0.4689 - acc: 0.7711 - val_loss: 0.4986 - val_acc: 0.7573\n",
            "Epoch 10/50\n",
            "144000/144000 - 43s - loss: 0.4653 - acc: 0.7740 - val_loss: 0.5046 - val_acc: 0.7562\n",
            "Epoch 11/50\n",
            "144000/144000 - 43s - loss: 0.4617 - acc: 0.7763 - val_loss: 0.4988 - val_acc: 0.7548\n",
            "Epoch 12/50\n",
            "144000/144000 - 43s - loss: 0.4579 - acc: 0.7790 - val_loss: 0.5066 - val_acc: 0.7517\n",
            "Epoch 13/50\n",
            "144000/144000 - 43s - loss: 0.4567 - acc: 0.7793 - val_loss: 0.5029 - val_acc: 0.7496\n",
            "Epoch 14/50\n",
            "144000/144000 - 44s - loss: 0.4543 - acc: 0.7817 - val_loss: 0.5093 - val_acc: 0.7519\n",
            "Epoch 15/50\n",
            "144000/144000 - 44s - loss: 0.4510 - acc: 0.7825 - val_loss: 0.5073 - val_acc: 0.7526\n",
            "Epoch 16/50\n",
            "144000/144000 - 44s - loss: 0.4499 - acc: 0.7827 - val_loss: 0.5077 - val_acc: 0.7490\n",
            "Epoch 17/50\n",
            "144000/144000 - 43s - loss: 0.4473 - acc: 0.7860 - val_loss: 0.5086 - val_acc: 0.7504\n",
            "Epoch 18/50\n",
            "144000/144000 - 43s - loss: 0.4468 - acc: 0.7865 - val_loss: 0.5128 - val_acc: 0.7478\n",
            "Epoch 19/50\n",
            "144000/144000 - 43s - loss: 0.4443 - acc: 0.7861 - val_loss: 0.5148 - val_acc: 0.7498\n",
            "Epoch 20/50\n",
            "144000/144000 - 44s - loss: 0.4450 - acc: 0.7873 - val_loss: 0.5095 - val_acc: 0.7523\n",
            "Epoch 21/50\n",
            "144000/144000 - 44s - loss: 0.4436 - acc: 0.7865 - val_loss: 0.5121 - val_acc: 0.7461\n",
            "Epoch 22/50\n",
            "144000/144000 - 44s - loss: 0.4410 - acc: 0.7894 - val_loss: 0.5230 - val_acc: 0.7461\n",
            "Epoch 23/50\n",
            "144000/144000 - 44s - loss: 0.4426 - acc: 0.7882 - val_loss: 0.5178 - val_acc: 0.7437\n",
            "Epoch 24/50\n",
            "144000/144000 - 43s - loss: 0.4396 - acc: 0.7902 - val_loss: 0.5135 - val_acc: 0.7498\n",
            "Epoch 25/50\n",
            "144000/144000 - 43s - loss: 0.4390 - acc: 0.7908 - val_loss: 0.5150 - val_acc: 0.7479\n",
            "Epoch 26/50\n",
            "144000/144000 - 43s - loss: 0.4384 - acc: 0.7908 - val_loss: 0.5187 - val_acc: 0.7446\n",
            "Epoch 27/50\n",
            "144000/144000 - 43s - loss: 0.4371 - acc: 0.7917 - val_loss: 0.5169 - val_acc: 0.7484\n",
            "Epoch 28/50\n",
            "144000/144000 - 43s - loss: 0.4365 - acc: 0.7907 - val_loss: 0.5175 - val_acc: 0.7489\n",
            "Epoch 29/50\n",
            "144000/144000 - 44s - loss: 0.4375 - acc: 0.7896 - val_loss: 0.5121 - val_acc: 0.7516\n",
            "Epoch 30/50\n",
            "144000/144000 - 43s - loss: 0.4361 - acc: 0.7913 - val_loss: 0.5136 - val_acc: 0.7492\n",
            "Epoch 31/50\n",
            "144000/144000 - 43s - loss: 0.4361 - acc: 0.7921 - val_loss: 0.5147 - val_acc: 0.7522\n",
            "Epoch 32/50\n",
            "144000/144000 - 43s - loss: 0.4345 - acc: 0.7917 - val_loss: 0.5190 - val_acc: 0.7496\n",
            "Epoch 33/50\n",
            "144000/144000 - 43s - loss: 0.4345 - acc: 0.7926 - val_loss: 0.5140 - val_acc: 0.7512\n",
            "Epoch 34/50\n",
            "144000/144000 - 44s - loss: 0.4320 - acc: 0.7939 - val_loss: 0.5170 - val_acc: 0.7478\n",
            "Epoch 35/50\n",
            "144000/144000 - 43s - loss: 0.4331 - acc: 0.7928 - val_loss: 0.5170 - val_acc: 0.7459\n",
            "Epoch 36/50\n",
            "144000/144000 - 43s - loss: 0.4333 - acc: 0.7959 - val_loss: 0.5194 - val_acc: 0.7502\n",
            "Epoch 37/50\n",
            "144000/144000 - 43s - loss: 0.4330 - acc: 0.7943 - val_loss: 0.5187 - val_acc: 0.7501\n",
            "Epoch 38/50\n",
            "144000/144000 - 43s - loss: 0.4324 - acc: 0.7940 - val_loss: 0.5143 - val_acc: 0.7495\n",
            "Epoch 39/50\n",
            "144000/144000 - 43s - loss: 0.4316 - acc: 0.7938 - val_loss: 0.5165 - val_acc: 0.7501\n",
            "Epoch 40/50\n",
            "144000/144000 - 43s - loss: 0.4317 - acc: 0.7946 - val_loss: 0.5158 - val_acc: 0.7452\n",
            "Epoch 41/50\n",
            "144000/144000 - 43s - loss: 0.4314 - acc: 0.7943 - val_loss: 0.5138 - val_acc: 0.7477\n",
            "Epoch 42/50\n",
            "144000/144000 - 44s - loss: 0.4303 - acc: 0.7952 - val_loss: 0.5161 - val_acc: 0.7498\n",
            "Epoch 43/50\n",
            "144000/144000 - 43s - loss: 0.4305 - acc: 0.7953 - val_loss: 0.5208 - val_acc: 0.7468\n",
            "Epoch 44/50\n",
            "144000/144000 - 44s - loss: 0.4307 - acc: 0.7961 - val_loss: 0.5131 - val_acc: 0.7512\n",
            "Epoch 45/50\n",
            "144000/144000 - 43s - loss: 0.4313 - acc: 0.7946 - val_loss: 0.5149 - val_acc: 0.7486\n",
            "Epoch 46/50\n",
            "144000/144000 - 43s - loss: 0.4301 - acc: 0.7941 - val_loss: 0.5174 - val_acc: 0.7437\n",
            "Epoch 47/50\n",
            "144000/144000 - 43s - loss: 0.4289 - acc: 0.7957 - val_loss: 0.5165 - val_acc: 0.7481\n",
            "Epoch 48/50\n",
            "144000/144000 - 43s - loss: 0.4310 - acc: 0.7960 - val_loss: 0.5166 - val_acc: 0.7491\n",
            "Epoch 49/50\n",
            "144000/144000 - 43s - loss: 0.4299 - acc: 0.7953 - val_loss: 0.5164 - val_acc: 0.7456\n",
            "Epoch 50/50\n",
            "144000/144000 - 44s - loss: 0.4297 - acc: 0.7954 - val_loss: 0.5166 - val_acc: 0.7474\n",
            "Training Complete\n"
          ],
          "name": "stdout"
        }
      ]
    },
    {
      "cell_type": "code",
      "metadata": {
        "id": "qxju4ItJKO8F",
        "colab_type": "code",
        "colab": {
          "base_uri": "https://localhost:8080/",
          "height": 607
        },
        "outputId": "9f8ef458-42ed-423e-98e4-ae63d75d05a8"
      },
      "source": [
        "import matplotlib.image  as mpimg\n",
        "import matplotlib.pyplot as plt\n",
        "\n",
        "#-----------------------------------------------------------\n",
        "# Retrieve a list of list results on training and test data\n",
        "# sets for each training epoch\n",
        "#-----------------------------------------------------------\n",
        "acc=history.history['acc']\n",
        "val_acc=history.history['val_acc']\n",
        "loss=history.history['loss']\n",
        "val_loss=history.history['val_loss']\n",
        "\n",
        "epochs=range(len(acc)) # Get number of epochs\n",
        "\n",
        "#------------------------------------------------\n",
        "# Plot training and validation accuracy per epoch\n",
        "#------------------------------------------------\n",
        "plt.plot(epochs, acc, 'r')\n",
        "plt.plot(epochs, val_acc, 'b')\n",
        "plt.title('Training and validation accuracy')\n",
        "plt.xlabel(\"Epochs\")\n",
        "plt.ylabel(\"Accuracy\")\n",
        "plt.legend([\"Accuracy\", \"Validation Accuracy\"])\n",
        "\n",
        "plt.figure()\n",
        "\n",
        "#------------------------------------------------\n",
        "# Plot training and validation loss per epoch\n",
        "#------------------------------------------------\n",
        "plt.plot(epochs, loss, 'r')\n",
        "plt.plot(epochs, val_loss, 'b')\n",
        "plt.title('Training and validation loss')\n",
        "plt.xlabel(\"Epochs\")\n",
        "plt.ylabel(\"Loss\")\n",
        "plt.legend([\"Loss\", \"Validation Loss\"])\n",
        "\n",
        "plt.figure()\n",
        "\n",
        "\n",
        "# Expected Output\n",
        "# A chart where the validation loss does not increase sharply!"
      ],
      "execution_count": 8,
      "outputs": [
        {
          "output_type": "execute_result",
          "data": {
            "text/plain": [
              "<Figure size 432x288 with 0 Axes>"
            ]
          },
          "metadata": {
            "tags": []
          },
          "execution_count": 8
        },
        {
          "output_type": "display_data",
          "data": {
            "image/png": "[encoded data removed]",
            "text/plain": [
              "<Figure size 432x288 with 1 Axes>"
            ]
          },
          "metadata": {
            "tags": []
          }
        },
        {
          "output_type": "display_data",
          "data": {
            "image/png": "[encoded data removed]",
            "text/plain": [
              "<Figure size 432x288 with 1 Axes>"
            ]
          },
          "metadata": {
            "tags": []
          }
        },
        {
          "output_type": "display_data",
          "data": {
            "text/plain": [
              "<Figure size 432x288 with 0 Axes>"
            ]
          },
          "metadata": {
            "tags": []
          }
        }
      ]
    }
  ]
}